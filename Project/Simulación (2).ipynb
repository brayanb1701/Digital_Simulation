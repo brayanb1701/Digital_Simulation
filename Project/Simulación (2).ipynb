{
  "nbformat": 4,
  "nbformat_minor": 0,
  "metadata": {
    "colab": {
      "name": "Simulación.ipynb",
      "provenance": [],
      "collapsed_sections": []
    },
    "kernelspec": {
      "name": "python3",
      "display_name": "Python 3"
    }
  },
  "cells": [
    {
      "cell_type": "markdown",
      "metadata": {
        "id": "2FG3_knZKDug"
      },
      "source": [
        "<div style=\"text-align: justify\">\r\n",
        "<font size=6><br><h2 align=\"center\">Simulación de Cuerpos Celestes de Gran\r\n",
        "Masa en el Sistema Solar</h2></font>\r\n",
        "<font size=5><br>\r\n",
        "<h3 align=\"center\">Simulación Digital</h3></font><font size=5>\r\n",
        "<h3 align=\"center\">Proyecto Final</h3></font> \r\n",
        "    \r\n",
        "<br/>\r\n",
        "\r\n",
        "<font size=5><h4 align=\"left\">Intregrantes: </h4></font>      \r\n",
        "2172016 - Kevin Javier Lozano Galvis<br>\r\n",
        "2170688 - Brayan Rodolfo Barajas Ochoa<br>\r\n",
        "2161342 - Carlos Alberto Palencia Pombo<br>"
      ]
    },
    {
      "cell_type": "markdown",
      "metadata": {
        "id": "-mV7qIdfKnqR"
      },
      "source": [
        "# Instalación astroquery"
      ]
    },
    {
      "cell_type": "markdown",
      "metadata": {
        "id": "vIt4FYexKUGL"
      },
      "source": [
        "Se hace uso de la librería astroquery para poder obtener los módulos a utilizar"
      ]
    },
    {
      "cell_type": "code",
      "metadata": {
        "colab": {
          "base_uri": "https://localhost:8080/"
        },
        "id": "VUnRivj04Yzo",
        "outputId": "b01ee4f7-7088-4b43-a1cf-925535d188ca"
      },
      "source": [
        "!pip install astroquery"
      ],
      "execution_count": 2,
      "outputs": [
        {
          "output_type": "stream",
          "text": [
            "Collecting astroquery\n",
            "\u001b[?25l  Downloading https://files.pythonhosted.org/packages/1b/f8/4690523783691ed816b3469c3ec611af3798594d37ade510dd918d59f57e/astroquery-0.4.1.tar.gz (6.5MB)\n",
            "\u001b[K     |████████████████████████████████| 6.5MB 4.7MB/s \n",
            "\u001b[?25hRequirement already satisfied: numpy in /usr/local/lib/python3.7/dist-packages (from astroquery) (1.19.5)\n",
            "Requirement already satisfied: astropy>=3.1 in /usr/local/lib/python3.7/dist-packages (from astroquery) (4.2)\n",
            "Requirement already satisfied: requests>=2.4.3 in /usr/local/lib/python3.7/dist-packages (from astroquery) (2.23.0)\n",
            "Collecting keyring>=4.0\n",
            "\u001b[?25l  Downloading https://files.pythonhosted.org/packages/96/69/3ee574555067bb416b07b9816dc73dc2a0deb1799464f2f7fe4dee506453/keyring-22.3.0-py3-none-any.whl (58kB)\n",
            "\u001b[K     |████████████████████████████████| 61kB 7.5MB/s \n",
            "\u001b[?25hRequirement already satisfied: beautifulsoup4>=4.3.2 in /usr/local/lib/python3.7/dist-packages (from astroquery) (4.6.3)\n",
            "Requirement already satisfied: html5lib>=0.999 in /usr/local/lib/python3.7/dist-packages (from astroquery) (1.0.1)\n",
            "Requirement already satisfied: six in /usr/local/lib/python3.7/dist-packages (from astroquery) (1.15.0)\n",
            "Requirement already satisfied: pyerfa in /usr/local/lib/python3.7/dist-packages (from astropy>=3.1->astroquery) (1.7.2)\n",
            "Requirement already satisfied: certifi>=2017.4.17 in /usr/local/lib/python3.7/dist-packages (from requests>=2.4.3->astroquery) (2020.12.5)\n",
            "Requirement already satisfied: urllib3!=1.25.0,!=1.25.1,<1.26,>=1.21.1 in /usr/local/lib/python3.7/dist-packages (from requests>=2.4.3->astroquery) (1.24.3)\n",
            "Requirement already satisfied: chardet<4,>=3.0.2 in /usr/local/lib/python3.7/dist-packages (from requests>=2.4.3->astroquery) (3.0.4)\n",
            "Requirement already satisfied: idna<3,>=2.5 in /usr/local/lib/python3.7/dist-packages (from requests>=2.4.3->astroquery) (2.10)\n",
            "Collecting jeepney>=0.4.2; sys_platform == \"linux\"\n",
            "\u001b[?25l  Downloading https://files.pythonhosted.org/packages/51/b0/a6ea72741aaac3f37fb96d195e4ee576a103c4c04e279bc6b446a70960e1/jeepney-0.6.0-py3-none-any.whl (45kB)\n",
            "\u001b[K     |████████████████████████████████| 51kB 6.0MB/s \n",
            "\u001b[?25hCollecting SecretStorage>=3.2; sys_platform == \"linux\"\n",
            "  Downloading https://files.pythonhosted.org/packages/d9/1e/29cd69fdac7391aa51510dfd42aa70b4e6a826c8cd019ee2a8ab9ec0777f/SecretStorage-3.3.1-py3-none-any.whl\n",
            "Requirement already satisfied: importlib-metadata>=1; python_version < \"3.8\" in /usr/local/lib/python3.7/dist-packages (from keyring>=4.0->astroquery) (3.7.0)\n",
            "Requirement already satisfied: webencodings in /usr/local/lib/python3.7/dist-packages (from html5lib>=0.999->astroquery) (0.5.1)\n",
            "Collecting cryptography>=2.0\n",
            "\u001b[?25l  Downloading https://files.pythonhosted.org/packages/f8/1f/acde6ff69864c5e78b56488e3afd93c1ccc8c2651186e2a5f93d93f64859/cryptography-3.4.6-cp36-abi3-manylinux2014_x86_64.whl (3.2MB)\n",
            "\u001b[K     |████████████████████████████████| 3.2MB 42.4MB/s \n",
            "\u001b[?25hRequirement already satisfied: typing-extensions>=3.6.4; python_version < \"3.8\" in /usr/local/lib/python3.7/dist-packages (from importlib-metadata>=1; python_version < \"3.8\"->keyring>=4.0->astroquery) (3.7.4.3)\n",
            "Requirement already satisfied: zipp>=0.5 in /usr/local/lib/python3.7/dist-packages (from importlib-metadata>=1; python_version < \"3.8\"->keyring>=4.0->astroquery) (3.4.0)\n",
            "Requirement already satisfied: cffi>=1.12 in /usr/local/lib/python3.7/dist-packages (from cryptography>=2.0->SecretStorage>=3.2; sys_platform == \"linux\"->keyring>=4.0->astroquery) (1.14.5)\n",
            "Requirement already satisfied: pycparser in /usr/local/lib/python3.7/dist-packages (from cffi>=1.12->cryptography>=2.0->SecretStorage>=3.2; sys_platform == \"linux\"->keyring>=4.0->astroquery) (2.20)\n",
            "Building wheels for collected packages: astroquery\n",
            "  Building wheel for astroquery (setup.py) ... \u001b[?25l\u001b[?25hdone\n",
            "  Created wheel for astroquery: filename=astroquery-0.4.1-cp37-none-any.whl size=3831874 sha256=637fab7ab67c8c210be4c2b55f4643b72ba733a08814d77fc39110a36f31a78f\n",
            "  Stored in directory: /root/.cache/pip/wheels/88/f8/b7/a254cd96e808f708bc0b7d755a8e095c56fbbe94099d7b464f\n",
            "Successfully built astroquery\n",
            "Installing collected packages: jeepney, cryptography, SecretStorage, keyring, astroquery\n",
            "Successfully installed SecretStorage-3.3.1 astroquery-0.4.1 cryptography-3.4.6 jeepney-0.6.0 keyring-22.3.0\n"
          ],
          "name": "stdout"
        }
      ]
    },
    {
      "cell_type": "markdown",
      "metadata": {
        "id": "_J9vIyWoKnHy"
      },
      "source": [
        "# Primer Modelo"
      ]
    },
    {
      "cell_type": "markdown",
      "metadata": {
        "id": "EXB6OWiqKTeJ"
      },
      "source": [
        "Al tener instalada la librería, se usará el modulo Horizons para la extracción de los datos de la NASA"
      ]
    },
    {
      "cell_type": "code",
      "metadata": {
        "id": "wMME8CGj_AWP"
      },
      "source": [
        "import numpy as np\r\n",
        "import json\r\n",
        "from astropy.time import Time\r\n",
        "from astroquery.jplhorizons import Horizons\r\n",
        "\r\n",
        "#Se simula comenzando desde esta fecha\r\n",
        "sim_start_date = \"2018-01-01\"    \r\n",
        "\r\n",
        "#Se comenzará simulando el primer modelo solo con los planetas cercanos al Sol para observar mejor su comportamiento\r\n",
        "names = ['Mercury', 'Venus', 'Earth', 'Mars']\r\n",
        "sizes = [0.5, 1.0, 1.1, 0.6]\r\n",
        "nasaids = [1, 2, 3, 4] \r\n",
        "\r\n",
        "data = dict(info=\"Solar planets database, including positions and velocities at the given date\",\r\n",
        "            date=sim_start_date)\r\n",
        "for i in range(len(nasaids)):\r\n",
        "    nasaid = nasaids[i]\r\n",
        "    obj = Horizons(id=nasaid, location=\"@sun\", epochs=Time(sim_start_date).jd, id_type='id').vectors()\r\n",
        "    data[str(nasaid)] = {\r\n",
        "        \"name\": names[i],\r\n",
        "        \"size\": sizes[i],\r\n",
        "        \"r\": [np.double(obj[xi]) for xi in ['x', 'y', 'z']],\r\n",
        "        \"v\": [np.double(obj[vxi]) for vxi in ['vx', 'vy', 'vz']]\r\n",
        "    }\r\n",
        "\r\n",
        "with open(\"planets.json\", 'w') as f:\r\n",
        "    json.dump(data, f, indent=10)"
      ],
      "execution_count": 4,
      "outputs": []
    },
    {
      "cell_type": "markdown",
      "metadata": {
        "id": "xes2izf4MTMT"
      },
      "source": [
        "Primero, se hará la simulación con los planetas cercanos al Sol, para observar mejor su comportamiento"
      ]
    },
    {
      "cell_type": "code",
      "metadata": {
        "colab": {
          "base_uri": "https://localhost:8080/",
          "height": 895
        },
        "id": "VIOXpDndCc5z",
        "outputId": "80e04332-40fc-4903-d297-368f3905cbc9"
      },
      "source": [
        "import json\r\n",
        "import matplotlib\r\n",
        "matplotlib.use('TkAgg')\r\n",
        "import matplotlib.pyplot as plt\r\n",
        "import matplotlib.animation as animation\r\n",
        "from datetime import date, datetime, timedelta\r\n",
        "\r\n",
        "#Se hace la simulación para 3 años\r\n",
        "sim_duration = 3 * 365           \r\n",
        "\r\n",
        "#Se definen los objetos: el Sol, Mercurio, Venus, la Tierra, etc.\r\n",
        "class Object:              \r\n",
        "    def __init__(self, name, rad, color, r, v):\r\n",
        "        self.name = name\r\n",
        "        self.r    = np.array(r, dtype=np.float)\r\n",
        "        self.v    = np.array(v, dtype=np.float)\r\n",
        "        self.xs = []\r\n",
        "        self.ys = []\r\n",
        "        self.plot = ax.scatter(r[0], r[1], color=color, s=rad**2, edgecolors=None, zorder=10)\r\n",
        "        self.line, = ax.plot([], [], color=color, linewidth=1.4)\r\n",
        "\r\n",
        "class SolarSystem:\r\n",
        "    def __init__(self, thesun):\r\n",
        "        self.thesun = thesun\r\n",
        "        self.planets = []\r\n",
        "        self.time = None\r\n",
        "        self.timestamp = ax.text(.03, .94, 'Date: ', color='w', transform=ax.transAxes, fontsize='x-large')\r\n",
        "    def add_planet(self, planet):\r\n",
        "        self.planets.append(planet)\r\n",
        "    def evolve(self): \r\n",
        "        dt = 1\r\n",
        "        self.time += timedelta(dt)\r\n",
        "        plots = []\r\n",
        "        lines = []\r\n",
        "        for i, p in enumerate(self.planets):\r\n",
        "            p.r += p.v * dt\r\n",
        "            # En unidades de AU/día^2\r\n",
        "            acc = -2.959e-4 * p.r / np.sum(p.r**2)**(3./2)  \r\n",
        "            p.v += acc * dt\r\n",
        "            p.xs.append(p.r[0])\r\n",
        "            p.ys.append(p.r[1])\r\n",
        "            p.plot.set_offsets(p.r[:2])\r\n",
        "            plots.append(p.plot)\r\n",
        "            p.line.set_xdata(p.xs)\r\n",
        "            p.line.set_ydata(p.ys)\r\n",
        "            lines.append(p.line)\r\n",
        "        if len(p.xs) > 10000:\r\n",
        "            raise SystemExit(\"Stopping after a long run to prevent memory overflow\")\r\n",
        "        self.timestamp.set_text('Date: {}'.format(self.time.isoformat()))\r\n",
        "        return plots + lines + [self.timestamp]\r\n",
        "\r\n",
        "plt.style.use('dark_background')\r\n",
        "fig = plt.figure(figsize=[12, 12])\r\n",
        "ax = plt.axes([0., 0., 1., 1.], xlim=(-1.7, 1.7), ylim=(-1.7, 1.7))\r\n",
        "ax.set_aspect('equal')\r\n",
        "ax.axis('off')\r\n",
        "with open(\"planets.json\", 'r') as f:\r\n",
        "    planets = json.load(f)\r\n",
        "ss = SolarSystem(Object(\"S\", 120, 'yellow', [0, 0, 0], [0, 0, 0]))\r\n",
        "ss.time = datetime.strptime(planets[\"date\"], '%Y-%m-%d').date()\r\n",
        "nasaids = [1, 2, 3, 4] \r\n",
        "colors = ['brown', 'orange', 'green', 'red']\r\n",
        "texty = [.47, .73, 1, 1.45]\r\n",
        "for i, nasaid in enumerate(nasaids):\r\n",
        "    planet = planets[str(nasaid)]\r\n",
        "    ss.add_planet(Object(nasaid, 20*planet[\"size\"], colors[i], planet[\"r\"], planet[\"v\"]))\r\n",
        "    ax.text(0, - (texty[i] + 0.1), planet[\"name\"], color=colors[i],\r\n",
        "            zorder=1000, ha='center', fontsize='large')\r\n",
        "\r\n",
        "def animate(i):\r\n",
        "    return ss.evolve()\r\n",
        "\r\n",
        "ani = animation.FuncAnimation(fig, animate, repeat=False, frames=sim_duration, blit=True, interval=20,)\r\n",
        "plt.show()\r\n",
        "ani.save('solar_system_6in_150dpi.mp4', fps=60, dpi=150)"
      ],
      "execution_count": 6,
      "outputs": [
        {
          "output_type": "display_data",
          "data": {
            "image/png": "[encoded data removed]",
            "text/plain": [
              "<Figure size 864x864 with 1 Axes>"
            ]
          },
          "metadata": {
            "tags": []
          }
        }
      ]
    },
    {
      "cell_type": "markdown",
      "metadata": {
        "id": "c54m--VRL7Ch"
      },
      "source": [
        "Ahora, que ya se observaron los planetas cercanos al Sol, se procede a realizar el primer modelo con todos los planetas"
      ]
    },
    {
      "cell_type": "code",
      "metadata": {
        "id": "tXSe0bUyCnN5"
      },
      "source": [
        "#Se simula comenzando desde esta fecha\r\n",
        "sim_start_date = \"2018-01-01\"   \r\n",
        "\r\n",
        "#Planetas\r\n",
        "names = ['Mercury', 'Venus', 'Earth', 'Mars', 'Jupiter', 'Saturn', 'Uranus', 'Neptune']\r\n",
        "sizes = [0.09, 0.18, 0.2, 0.108, 2.25, 1.8, 0.82, 1.6]\r\n",
        "nasaids = [1, 2, 3, 4, 5, 6, 7, 8]  \r\n",
        "\r\n",
        "data = dict(info=\"Solar planets database, including positions and velocities at the given date\",\r\n",
        "            date=sim_start_date)\r\n",
        "for i in range(len(nasaids)):\r\n",
        "    nasaid = nasaids[i]\r\n",
        "    obj = Horizons(id=nasaid, location=\"@sun\", epochs=Time(sim_start_date).jd, id_type='id').vectors()\r\n",
        "    data[str(nasaid)] = {\r\n",
        "        \"name\": names[i],\r\n",
        "        \"size\": sizes[i],\r\n",
        "        \"r\": [np.double(obj[xi]) for xi in ['x', 'y', 'z']],\r\n",
        "        \"v\": [np.double(obj[vxi]) for vxi in ['vx', 'vy', 'vz']]\r\n",
        "    }\r\n",
        "\r\n",
        "with open(\"planets.json\", 'w') as f:\r\n",
        "    json.dump(data, f, indent=10)"
      ],
      "execution_count": 7,
      "outputs": []
    },
    {
      "cell_type": "code",
      "metadata": {
        "colab": {
          "base_uri": "https://localhost:8080/",
          "height": 895
        },
        "id": "WUL_RHJNjET9",
        "outputId": "aad00335-79a7-42f5-89ba-6226f089f537"
      },
      "source": [
        "#Se hace la simulación para 3 años\r\n",
        "sim_duration = 3 * 365           \r\n",
        "\r\n",
        "#Se definen los objetos: el Sol, Mercurio, Venus, la Tierra, etc.  \r\n",
        "\r\n",
        "class Object:           \r\n",
        "    def __init__(self, name, rad, color, r, v):\r\n",
        "        self.name = name\r\n",
        "        self.r    = np.array(r, dtype=np.float)\r\n",
        "        self.v    = np.array(v, dtype=np.float)\r\n",
        "        self.xs = []\r\n",
        "        self.ys = []\r\n",
        "        self.plot = ax.scatter(r[0], r[1], color=color, s=rad**2, edgecolors=None, zorder=10)\r\n",
        "        self.line, = ax.plot([], [], color=color, linewidth=1.4)\r\n",
        "\r\n",
        "class SolarSystem:\r\n",
        "    def __init__(self, thesun):\r\n",
        "        self.thesun = thesun\r\n",
        "        self.planets = []\r\n",
        "        self.time = None\r\n",
        "        self.timestamp = ax.text(.03, .94, 'Date: ', color='w', transform=ax.transAxes, fontsize='x-large')\r\n",
        "    def add_planet(self, planet):\r\n",
        "        self.planets.append(planet)\r\n",
        "    def evolve(self): \r\n",
        "        dt = 1\r\n",
        "        self.time += timedelta(dt)\r\n",
        "        plots = []\r\n",
        "        lines = []\r\n",
        "        for i, p in enumerate(self.planets):\r\n",
        "            p.r += p.v * dt\r\n",
        "            acc = -2.959e-4 * p.r / np.sum(p.r**2)**(3./2)  \r\n",
        "            p.v += acc * dt\r\n",
        "            p.xs.append(p.r[0])\r\n",
        "            p.ys.append(p.r[1])\r\n",
        "            p.plot.set_offsets(p.r[:2])\r\n",
        "            plots.append(p.plot)\r\n",
        "            p.line.set_xdata(p.xs)\r\n",
        "            p.line.set_ydata(p.ys)\r\n",
        "            lines.append(p.line)\r\n",
        "        if len(p.xs) > 10000:\r\n",
        "            raise SystemExit(\"Stopping after a long run to prevent memory overflow\")\r\n",
        "        self.timestamp.set_text('Date: {}'.format(self.time.isoformat()))\r\n",
        "        return plots + lines + [self.timestamp]\r\n",
        "\r\n",
        "plt.style.use('dark_background')\r\n",
        "fig = plt.figure(figsize=[12, 12])\r\n",
        "ax = plt.axes([0., 0., 1., 1.], xlim=(-30, 30), ylim=(-30, 30))\r\n",
        "ax.set_aspect('equal')\r\n",
        "ax.axis('off')\r\n",
        "with open(\"planets.json\", 'r') as f:\r\n",
        "    planets = json.load(f)\r\n",
        "ss = SolarSystem(Object(\"S\",18, 'yellow', [0, 0, 0], [0, 0, 0]))\r\n",
        "ss.time = datetime.strptime(planets[\"date\"], '%Y-%m-%d').date()\r\n",
        "nasaids = [1, 2, 3, 4, 5, 6, 7, 8]  \r\n",
        "\r\n",
        "colors = ['brown', 'orange', 'green', 'red', 'chocolate', 'coral', 'cyan', 'blue']\r\n",
        "texty = [.47, .73, 1.0, 2.2, 6.0, 11.5, 22.0, 29.0]\r\n",
        "for i, nasaid in enumerate(nasaids):\r\n",
        "    planet = planets[str(nasaid)]\r\n",
        "    ss.add_planet(Object(nasaid,3.75 * planet[\"size\"], colors[i], planet[\"r\"], planet[\"v\"]))\r\n",
        "    if i>=3:\r\n",
        "      ax.text(0, - (texty[i] + 0.1), planet[\"name\"], color=colors[i],\r\n",
        "              zorder=1000, ha='center', fontsize='large')\r\n",
        "\r\n",
        "def animate(i):\r\n",
        "    return ss.evolve()\r\n",
        "\r\n",
        "ani = animation.FuncAnimation(fig, animate, repeat=False, frames=sim_duration, blit=True, interval=20,)\r\n",
        "plt.show()\r\n",
        "ani.save('solar_system_6in_150dpi.mp4', fps=60, dpi=150)"
      ],
      "execution_count": 8,
      "outputs": [
        {
          "output_type": "display_data",
          "data": {
            "image/png": "[encoded data removed]",
            "text/plain": [
              "<Figure size 864x864 with 1 Axes>"
            ]
          },
          "metadata": {
            "tags": []
          }
        }
      ]
    },
    {
      "cell_type": "markdown",
      "metadata": {
        "id": "-hKrBL62MbRr"
      },
      "source": [
        "# Segundo Modelo"
      ]
    },
    {
      "cell_type": "markdown",
      "metadata": {
        "id": "uhjFyu3uMy4i"
      },
      "source": [
        "Para este modelo se comenzarán graficando los planetas cercanos al Sol. Sin embargo, es importante obtener la información de los 8 planetas porque el segundo modelo calcula la aceleración a partir de la interacción de cada cuerpo con el resto de ellos en el sistema solar. "
      ]
    },
    {
      "cell_type": "code",
      "metadata": {
        "colab": {
          "base_uri": "https://localhost:8080/",
          "height": 1000
        },
        "id": "kbuzpROQkAeT",
        "outputId": "653f9b2f-2353-4110-b77c-eb59e692b5a4"
      },
      "source": [
        "#Se hace la simulación para 3 años\r\n",
        "sim_duration = 3 * 365        \r\n",
        "G = 1.4878e-34\r\n",
        "mass_sun=1.9891e30\r\n",
        "mass_planets=[3.3022e23,4.8685e24,5.9736e24,6.4185e23,1.8986e27,5.6846e26,8.6810e25,10.243e25]\r\n",
        "planet_sizes = [0.5, 1.0, 1.1, 0.6,10,9,7,8]\r\n",
        "\r\n",
        "class Object:                 \r\n",
        "    def __init__(self, name,mass, rad, color, r, v):\r\n",
        "        self.name = name\r\n",
        "        self.mass = mass\r\n",
        "        self.r    = np.array(r, dtype=np.float)\r\n",
        "        self.v    = np.array(v, dtype=np.float)\r\n",
        "        self.xs = []\r\n",
        "        self.ys = []\r\n",
        "        self.plot = ax.scatter(r[0], r[1], color=color, s=rad**2, edgecolors=None, zorder=10)\r\n",
        "        self.line, = ax.plot([], [], color=color, linewidth=1.4)\r\n",
        "\r\n",
        "class SolarSystem:\r\n",
        "    def __init__(self, thesun):\r\n",
        "        self.thesun = thesun\r\n",
        "        self.planets = []\r\n",
        "        self.time = None\r\n",
        "        self.timestamp = ax.text(.03, .94, 'Date: ', color='w', transform=ax.transAxes, fontsize='x-large')\r\n",
        "    def add_planet(self, planet):\r\n",
        "        self.planets.append(planet)\r\n",
        "    def evolve(self):\r\n",
        "        dt = 1\r\n",
        "        self.time += timedelta(dt)\r\n",
        "        plots=[]\r\n",
        "        lines=[]\r\n",
        "        for i, p in enumerate(self.planets):\r\n",
        "            p.r += p.v * dt\r\n",
        "            forces = np.array((0, 0, 0))\r\n",
        "            dr = p.r-self.thesun.r\r\n",
        "            distance = np.sum(dr**2)**(3./2)\r\n",
        "            forces = self.thesun.mass* dr / distance\r\n",
        "\r\n",
        "            for j, p2 in enumerate(self.planets):\r\n",
        "              if i==j:\r\n",
        "                continue\r\n",
        "              dr =p.r-p2.r\r\n",
        "              distance = np.sum(dr**2)**(3./2)\r\n",
        "              forces += p2.mass* dr / distance\r\n",
        "\r\n",
        "            acc = -G*forces  \r\n",
        "            p.v += acc * dt\r\n",
        "            p.xs.append(p.r[0])\r\n",
        "            p.ys.append(p.r[1])\r\n",
        "            p.plot.set_offsets(p.r[:2])\r\n",
        "            plots.append(p.plot)\r\n",
        "            p.line.set_xdata(p.xs)\r\n",
        "            p.line.set_ydata(p.ys)\r\n",
        "            lines.append(p.line)\r\n",
        "        if len(p.xs) > 10000:\r\n",
        "            raise SystemExit(\"Stopping after a long run to prevent memory overflow\")\r\n",
        "        self.timestamp.set_text('Date: {}'.format(self.time.isoformat()))\r\n",
        "        return plots + lines + [self.timestamp]\r\n",
        "\r\n",
        "plt.style.use('dark_background')\r\n",
        "fig = plt.figure(figsize=[13, 13])\r\n",
        "ax = plt.axes([0., 0., 1., 1.], xlim=(-1.6, 1.6), ylim=(-1.6, 1.6))\r\n",
        "ax.set_aspect('equal')\r\n",
        "ax.axis('off')\r\n",
        "with open(\"planets.json\", 'r') as f:\r\n",
        "    planets = json.load(f)\r\n",
        "ss = SolarSystem(Object(\"S\",mass_sun, 120, 'yellow', [0, 0, 0], [0, 0, 0]))\r\n",
        "ss.time = datetime.strptime(planets[\"date\"], '%Y-%m-%d').date()\r\n",
        "nasaids = [1, 2, 3, 4,5,6,7,8] \r\n",
        "\r\n",
        "colors = ['brown', 'orange', 'green', 'red', 'chocolate', 'coral', 'cyan', 'blue']\r\n",
        "texty = [.47, .73, 1.0, 2.2, 6.0, 11.5, 22.0, 29.0]\r\n",
        "for i, nasaid in enumerate(nasaids):\r\n",
        "    planet = planets[str(nasaid)]\r\n",
        "    if i<=3:\r\n",
        "      ss.add_planet(Object(nasaid, mass_planets[i], 20*planet_sizes[i], colors[i], planet[\"r\"], planet[\"v\"]))\r\n",
        "      ax.text(0, - (texty[i] + 0.1), planet[\"name\"], color=colors[i],\r\n",
        "              zorder=1000, ha='center', fontsize='large')\r\n",
        "\r\n",
        "def animate(i):\r\n",
        "    return ss.evolve()\r\n",
        "\r\n",
        "ani = animation.FuncAnimation(fig, animate, repeat=False, frames=sim_duration, blit=True, interval=20,)\r\n",
        "plt.show()\r\n",
        "ani.save('solar_system_6in_150dpi-inner2.mp4', fps=60, dpi=150)"
      ],
      "execution_count": 9,
      "outputs": [
        {
          "output_type": "display_data",
          "data": {
            "image/png": "[encoded data removed]",
            "text/plain": [
              "<Figure size 936x936 with 1 Axes>"
            ]
          },
          "metadata": {
            "tags": []
          }
        }
      ]
    },
    {
      "cell_type": "markdown",
      "metadata": {
        "id": "U7B223KjNWHc"
      },
      "source": [
        "Ya al tener la simulación de los planetas cercanos al Sol para poder verificar y observar su comportamiento, se procede a realizar la implementación de todos los planetas para el modelo 2"
      ]
    },
    {
      "cell_type": "code",
      "metadata": {
        "colab": {
          "base_uri": "https://localhost:8080/",
          "height": 895
        },
        "id": "3rlxyIemrSe0",
        "outputId": "f2dd07bc-cf43-433e-a41f-ebabbb7f31de"
      },
      "source": [
        "#Se hace la simulación para 3 años\r\n",
        "sim_duration = 3 * 365              \r\n",
        "G = 1.4878e-34\r\n",
        "mass_sun=1.9891e30\r\n",
        "mass_planets=[3.3022e23,4.8685e24,5.9736e24,6.4185e23,1.8986e27,5.6846e26,8.6810e25,10.243e25]\r\n",
        "planet_sizes = [0.09, 0.18, 0.2, 0.108, 2.25, 1.8, 0.82, 1.6]\r\n",
        "class Object:                  \r\n",
        "    def __init__(self, name,mass, rad, color, r, v):\r\n",
        "        self.name = name\r\n",
        "        self.mass = mass\r\n",
        "        self.r    = np.array(r, dtype=np.float)\r\n",
        "        self.v    = np.array(v, dtype=np.float)\r\n",
        "        self.xs = []\r\n",
        "        self.ys = []\r\n",
        "        self.plot = ax.scatter(r[0], r[1], color=color, s=rad**2, edgecolors=None, zorder=10)\r\n",
        "        self.line, = ax.plot([], [], color=color, linewidth=1.4)\r\n",
        "\r\n",
        "class SolarSystem:\r\n",
        "    def __init__(self, thesun):\r\n",
        "        self.thesun = thesun\r\n",
        "        self.planets = []\r\n",
        "        self.time = None\r\n",
        "        self.timestamp = ax.text(.03, .94, 'Date: ', color='w', transform=ax.transAxes, fontsize='x-large')\r\n",
        "    def add_planet(self, planet):\r\n",
        "        self.planets.append(planet)\r\n",
        "    def evolve(self):\r\n",
        "        dt = 1\r\n",
        "        self.time += timedelta(dt)\r\n",
        "        plots=[]\r\n",
        "        lines=[]\r\n",
        "        for i, p in enumerate(self.planets):\r\n",
        "            p.r += p.v * dt\r\n",
        "            forces = np.array((0, 0, 0))\r\n",
        "            dr = p.r-self.thesun.r\r\n",
        "            distance = np.sum(dr**2)**(3./2)\r\n",
        "            forces = self.thesun.mass* dr / distance\r\n",
        "\r\n",
        "            for j, p2 in enumerate(self.planets):\r\n",
        "              if i==j:\r\n",
        "                continue\r\n",
        "              dr =p.r-p2.r\r\n",
        "              distance = np.sum(dr**2)**(3./2)\r\n",
        "              forces += p2.mass* dr / distance\r\n",
        "\r\n",
        "            acc = -G*forces  \r\n",
        "            p.v += acc * dt\r\n",
        "            p.xs.append(p.r[0])\r\n",
        "            p.ys.append(p.r[1])\r\n",
        "            p.plot.set_offsets(p.r[:2])\r\n",
        "            plots.append(p.plot)\r\n",
        "            p.line.set_xdata(p.xs)\r\n",
        "            p.line.set_ydata(p.ys)\r\n",
        "            lines.append(p.line)\r\n",
        "        if len(p.xs) > 10000:\r\n",
        "            raise SystemExit(\"Stopping after a long run to prevent memory overflow\")\r\n",
        "        self.timestamp.set_text('Date: {}'.format(self.time.isoformat()))\r\n",
        "        return plots + lines + [self.timestamp]\r\n",
        "\r\n",
        "plt.style.use('dark_background')\r\n",
        "fig = plt.figure(figsize=[12, 12])\r\n",
        "ax = plt.axes([0., 0., 1., 1.], xlim=(-30, 30), ylim=(-30, 30))\r\n",
        "ax.set_aspect('equal')\r\n",
        "ax.axis('off')\r\n",
        "with open(\"planets.json\", 'r') as f:\r\n",
        "    planets = json.load(f)\r\n",
        "ss = SolarSystem(Object(\"S\",mass_sun, 18, 'yellow', [0, 0, 0], [0, 0, 0]))\r\n",
        "ss.time = datetime.strptime(planets[\"date\"], '%Y-%m-%d').date()\r\n",
        "nasaids = [1, 2, 3, 4,5,6,7,8]  \r\n",
        "\r\n",
        "colors = ['brown', 'orange', 'green', 'red', 'chocolate', 'coral', 'cyan', 'blue']\r\n",
        "texty = [.47, .73, 1.0, 2.2, 6.0, 11.5, 22.0, 29.0]\r\n",
        "for i, nasaid in enumerate(nasaids):\r\n",
        "    planet = planets[str(nasaid)]\r\n",
        "    ss.add_planet(Object(nasaid, mass_planets[i], 3.75*planet_sizes[i], colors[i], planet[\"r\"], planet[\"v\"]))\r\n",
        "    if i>=3:\r\n",
        "      ax.text(0, - (texty[i] + 0.1), planet[\"name\"], color=colors[i],\r\n",
        "              zorder=1000, ha='center', fontsize='large')\r\n",
        "\r\n",
        "def animate(i):\r\n",
        "    return ss.evolve()\r\n",
        "\r\n",
        "ani = animation.FuncAnimation(fig, animate, repeat=False, frames=sim_duration, blit=True, interval=20,)\r\n",
        "plt.show()\r\n",
        "ani.save('solar_system_6in_150dpi-outer2.mp4', fps=60, dpi=150)"
      ],
      "execution_count": 10,
      "outputs": [
        {
          "output_type": "display_data",
          "data": {
            "image/png": "[encoded data removed]",
            "text/plain": [
              "<Figure size 864x864 with 1 Axes>"
            ]
          },
          "metadata": {
            "tags": []
          }
        }
      ]
    }
  ]
}